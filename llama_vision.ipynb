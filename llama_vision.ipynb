{
 "cells": [
  {
   "cell_type": "markdown",
   "metadata": {},
   "source": [
    "## Install all the requirements"
   ]
  },
  {
   "cell_type": "code",
   "execution_count": 1,
   "metadata": {
    "vscode": {
     "languageId": "bat"
    }
   },
   "outputs": [
    {
     "name": "stdout",
     "output_type": "stream",
     "text": [
      "Collecting fastapi==0.115.4 (from -r requirements.txt (line 1))\n",
      "  Downloading fastapi-0.115.4-py3-none-any.whl.metadata (27 kB)\n",
      "Collecting Pillow==11.0.0 (from -r requirements.txt (line 2))\n",
      "  Using cached pillow-11.0.0-cp312-cp312-macosx_11_0_arm64.whl.metadata (9.1 kB)\n",
      "Collecting torch==2.4.0 (from -r requirements.txt (line 3))\n",
      "  Using cached torch-2.4.0-cp312-none-macosx_11_0_arm64.whl.metadata (26 kB)\n",
      "Collecting transformers==4.44.2 (from -r requirements.txt (line 4))\n",
      "  Using cached transformers-4.44.2-py3-none-any.whl.metadata (43 kB)\n",
      "Collecting uvicorn==0.32.0 (from -r requirements.txt (line 5))\n",
      "  Downloading uvicorn-0.32.0-py3-none-any.whl.metadata (6.6 kB)\n",
      "Requirement already satisfied: numpy==1.26.4 in /opt/anaconda3/lib/python3.12/site-packages (from -r requirements.txt (line 6)) (1.26.4)\n",
      "Collecting groq==0.12.0 (from -r requirements.txt (line 7))\n",
      "  Using cached groq-0.12.0-py3-none-any.whl.metadata (13 kB)\n",
      "Requirement already satisfied: python-dotenv==1.0.0 in /opt/anaconda3/lib/python3.12/site-packages (from -r requirements.txt (line 8)) (1.0.0)\n",
      "Collecting starlette<0.42.0,>=0.40.0 (from fastapi==0.115.4->-r requirements.txt (line 1))\n",
      "  Downloading starlette-0.41.3-py3-none-any.whl.metadata (6.0 kB)\n",
      "Requirement already satisfied: pydantic!=1.8,!=1.8.1,!=2.0.0,!=2.0.1,!=2.1.0,<3.0.0,>=1.7.4 in /opt/anaconda3/lib/python3.12/site-packages (from fastapi==0.115.4->-r requirements.txt (line 1)) (2.9.2)\n",
      "Requirement already satisfied: typing-extensions>=4.8.0 in /opt/anaconda3/lib/python3.12/site-packages (from fastapi==0.115.4->-r requirements.txt (line 1)) (4.12.2)\n",
      "Requirement already satisfied: filelock in /opt/anaconda3/lib/python3.12/site-packages (from torch==2.4.0->-r requirements.txt (line 3)) (3.13.1)\n",
      "Requirement already satisfied: sympy in /opt/anaconda3/lib/python3.12/site-packages (from torch==2.4.0->-r requirements.txt (line 3)) (1.12)\n",
      "Requirement already satisfied: networkx in /opt/anaconda3/lib/python3.12/site-packages (from torch==2.4.0->-r requirements.txt (line 3)) (3.3)\n",
      "Requirement already satisfied: jinja2 in /opt/anaconda3/lib/python3.12/site-packages (from torch==2.4.0->-r requirements.txt (line 3)) (3.1.4)\n",
      "Requirement already satisfied: fsspec in /opt/anaconda3/lib/python3.12/site-packages (from torch==2.4.0->-r requirements.txt (line 3)) (2024.6.1)\n",
      "Requirement already satisfied: setuptools in /opt/anaconda3/lib/python3.12/site-packages (from torch==2.4.0->-r requirements.txt (line 3)) (72.1.0)\n",
      "Requirement already satisfied: huggingface-hub<1.0,>=0.23.2 in /opt/anaconda3/lib/python3.12/site-packages (from transformers==4.44.2->-r requirements.txt (line 4)) (0.23.2)\n",
      "Requirement already satisfied: packaging>=20.0 in /opt/anaconda3/lib/python3.12/site-packages (from transformers==4.44.2->-r requirements.txt (line 4)) (23.2)\n",
      "Requirement already satisfied: pyyaml>=5.1 in /opt/anaconda3/lib/python3.12/site-packages (from transformers==4.44.2->-r requirements.txt (line 4)) (6.0.2)\n",
      "Requirement already satisfied: regex!=2019.12.17 in /opt/anaconda3/lib/python3.12/site-packages (from transformers==4.44.2->-r requirements.txt (line 4)) (2024.7.24)\n",
      "Requirement already satisfied: requests in /opt/anaconda3/lib/python3.12/site-packages (from transformers==4.44.2->-r requirements.txt (line 4)) (2.32.3)\n",
      "Requirement already satisfied: safetensors>=0.4.1 in /opt/anaconda3/lib/python3.12/site-packages (from transformers==4.44.2->-r requirements.txt (line 4)) (0.4.5)\n",
      "Collecting tokenizers<0.20,>=0.19 (from transformers==4.44.2->-r requirements.txt (line 4))\n",
      "  Using cached tokenizers-0.19.1-cp312-cp312-macosx_11_0_arm64.whl.metadata (6.7 kB)\n",
      "Requirement already satisfied: tqdm>=4.27 in /opt/anaconda3/lib/python3.12/site-packages (from transformers==4.44.2->-r requirements.txt (line 4)) (4.66.6)\n",
      "Requirement already satisfied: click>=7.0 in /opt/anaconda3/lib/python3.12/site-packages (from uvicorn==0.32.0->-r requirements.txt (line 5)) (8.1.7)\n",
      "Requirement already satisfied: h11>=0.8 in /opt/anaconda3/lib/python3.12/site-packages (from uvicorn==0.32.0->-r requirements.txt (line 5)) (0.14.0)\n",
      "Requirement already satisfied: anyio<5,>=3.5.0 in /opt/anaconda3/lib/python3.12/site-packages (from groq==0.12.0->-r requirements.txt (line 7)) (4.6.2.post1)\n",
      "Requirement already satisfied: distro<2,>=1.7.0 in /opt/anaconda3/lib/python3.12/site-packages (from groq==0.12.0->-r requirements.txt (line 7)) (1.9.0)\n",
      "Requirement already satisfied: httpx<1,>=0.23.0 in /opt/anaconda3/lib/python3.12/site-packages (from groq==0.12.0->-r requirements.txt (line 7)) (0.27.2)\n",
      "Requirement already satisfied: sniffio in /opt/anaconda3/lib/python3.12/site-packages (from groq==0.12.0->-r requirements.txt (line 7)) (1.3.1)\n",
      "Requirement already satisfied: idna>=2.8 in /opt/anaconda3/lib/python3.12/site-packages (from anyio<5,>=3.5.0->groq==0.12.0->-r requirements.txt (line 7)) (3.10)\n",
      "Requirement already satisfied: certifi in /opt/anaconda3/lib/python3.12/site-packages (from httpx<1,>=0.23.0->groq==0.12.0->-r requirements.txt (line 7)) (2024.8.30)\n",
      "Requirement already satisfied: httpcore==1.* in /opt/anaconda3/lib/python3.12/site-packages (from httpx<1,>=0.23.0->groq==0.12.0->-r requirements.txt (line 7)) (1.0.6)\n",
      "Requirement already satisfied: annotated-types>=0.6.0 in /opt/anaconda3/lib/python3.12/site-packages (from pydantic!=1.8,!=1.8.1,!=2.0.0,!=2.0.1,!=2.1.0,<3.0.0,>=1.7.4->fastapi==0.115.4->-r requirements.txt (line 1)) (0.7.0)\n",
      "Requirement already satisfied: pydantic-core==2.23.4 in /opt/anaconda3/lib/python3.12/site-packages (from pydantic!=1.8,!=1.8.1,!=2.0.0,!=2.0.1,!=2.1.0,<3.0.0,>=1.7.4->fastapi==0.115.4->-r requirements.txt (line 1)) (2.23.4)\n",
      "Requirement already satisfied: MarkupSafe>=2.0 in /opt/anaconda3/lib/python3.12/site-packages (from jinja2->torch==2.4.0->-r requirements.txt (line 3)) (3.0.2)\n",
      "Requirement already satisfied: charset-normalizer<4,>=2 in /opt/anaconda3/lib/python3.12/site-packages (from requests->transformers==4.44.2->-r requirements.txt (line 4)) (3.4.0)\n",
      "Requirement already satisfied: urllib3<3,>=1.21.1 in /opt/anaconda3/lib/python3.12/site-packages (from requests->transformers==4.44.2->-r requirements.txt (line 4)) (2.2.3)\n",
      "Requirement already satisfied: mpmath>=0.19 in /opt/anaconda3/lib/python3.12/site-packages (from sympy->torch==2.4.0->-r requirements.txt (line 3)) (1.3.0)\n",
      "Downloading fastapi-0.115.4-py3-none-any.whl (94 kB)\n",
      "Using cached pillow-11.0.0-cp312-cp312-macosx_11_0_arm64.whl (3.0 MB)\n",
      "Using cached torch-2.4.0-cp312-none-macosx_11_0_arm64.whl (62.1 MB)\n",
      "Using cached transformers-4.44.2-py3-none-any.whl (9.5 MB)\n",
      "Downloading uvicorn-0.32.0-py3-none-any.whl (63 kB)\n",
      "Using cached groq-0.12.0-py3-none-any.whl (108 kB)\n",
      "Downloading starlette-0.41.3-py3-none-any.whl (73 kB)\n",
      "Using cached tokenizers-0.19.1-cp312-cp312-macosx_11_0_arm64.whl (2.4 MB)\n",
      "Installing collected packages: uvicorn, Pillow, torch, starlette, tokenizers, groq, fastapi, transformers\n",
      "  Attempting uninstall: uvicorn\n",
      "    Found existing installation: uvicorn 0.30.6\n",
      "    Uninstalling uvicorn-0.30.6:\n",
      "      Successfully uninstalled uvicorn-0.30.6\n",
      "  Attempting uninstall: Pillow\n",
      "    Found existing installation: Pillow 9.5.0\n",
      "    Uninstalling Pillow-9.5.0:\n",
      "      Successfully uninstalled Pillow-9.5.0\n",
      "  Attempting uninstall: torch\n",
      "    Found existing installation: torch 2.4.1\n",
      "    Uninstalling torch-2.4.1:\n",
      "      Successfully uninstalled torch-2.4.1\n",
      "  Attempting uninstall: starlette\n",
      "    Found existing installation: starlette 0.38.5\n",
      "    Uninstalling starlette-0.38.5:\n",
      "      Successfully uninstalled starlette-0.38.5\n",
      "  Attempting uninstall: tokenizers\n",
      "    Found existing installation: tokenizers 0.20.2\n",
      "    Uninstalling tokenizers-0.20.2:\n",
      "      Successfully uninstalled tokenizers-0.20.2\n",
      "  Attempting uninstall: fastapi\n",
      "    Found existing installation: fastapi 0.114.1\n",
      "    Uninstalling fastapi-0.114.1:\n",
      "      Successfully uninstalled fastapi-0.114.1\n",
      "  Attempting uninstall: transformers\n",
      "    Found existing installation: transformers 4.46.1\n",
      "    Uninstalling transformers-4.46.1:\n",
      "      Successfully uninstalled transformers-4.46.1\n",
      "\u001b[31mERROR: pip's dependency resolver does not currently take into account all the packages that are installed. This behaviour is the source of the following dependency conflicts.\n",
      "streamlit 1.23.1 requires pillow<10,>=6.2.0, but you have pillow 11.0.0 which is incompatible.\n",
      "gradio 4.44.0 requires markupsafe~=2.0, but you have markupsafe 3.0.2 which is incompatible.\n",
      "gradio 4.44.0 requires pillow<11.0,>=8.0, but you have pillow 11.0.0 which is incompatible.\n",
      "torchvision 0.19.1 requires torch==2.4.1, but you have torch 2.4.0 which is incompatible.\u001b[0m\u001b[31m\n",
      "\u001b[0mSuccessfully installed Pillow-11.0.0 fastapi-0.115.4 groq-0.12.0 starlette-0.41.3 tokenizers-0.19.1 torch-2.4.0 transformers-4.44.2 uvicorn-0.32.0\n"
     ]
    }
   ],
   "source": [
    "!pip install -r requirements.txt"
   ]
  },
  {
   "cell_type": "code",
   "execution_count": 2,
   "metadata": {},
   "outputs": [],
   "source": [
    "import os\n",
    "import base64\n",
    "from groq import Groq\n",
    "from dotenv import load_dotenv"
   ]
  },
  {
   "cell_type": "markdown",
   "metadata": {},
   "source": [
    "## Registering to Groq using API key\n",
    "Get an API key [here](https://console.groq.com/docs/quickstart)"
   ]
  },
  {
   "cell_type": "code",
   "execution_count": 4,
   "metadata": {},
   "outputs": [],
   "source": [
    "load_dotenv()\n",
    "client = Groq(api_key=os.getenv(\"GROQ_API_KEY\"))"
   ]
  },
  {
   "cell_type": "markdown",
   "metadata": {},
   "source": [
    "## Loading the vision model"
   ]
  },
  {
   "cell_type": "code",
   "execution_count": 5,
   "metadata": {},
   "outputs": [],
   "source": [
    "MODEL=\"llama-3.2-11b-vision-preview\""
   ]
  },
  {
   "cell_type": "markdown",
   "metadata": {},
   "source": [
    "## Function definition"
   ]
  },
  {
   "cell_type": "code",
   "execution_count": 6,
   "metadata": {},
   "outputs": [],
   "source": [
    "# Function to encode the image base 64\n",
    "def encode_image(image_path):\n",
    "  with open(image_path, \"rb\") as image_file:\n",
    "    return base64.b64encode(image_file.read()).decode('utf-8') \n",
    "  \n",
    "# Function to ask the Llama-3.2-11b-vision-preview\n",
    "def ask_llama_vision(question: str, image_path: str) -> str:\n",
    "  base64_image = encode_image(image_path)\n",
    "\n",
    "  client = Groq(api_key=os.getenv(\"GROQ_API_KEY\"))\n",
    "\n",
    "  chat_completion = client.chat.completions.create(\n",
    "    messages=[\n",
    "      {\n",
    "        \"role\": \"user\",\n",
    "        \"content\": [\n",
    "            {\"type\": \"text\", \"text\": question},\n",
    "            {\n",
    "                \"type\": \"image_url\",\n",
    "                \"image_url\": {\n",
    "                    \"url\": f\"data:image/jpeg;base64,{base64_image}\",\n",
    "                },\n",
    "            },\n",
    "        ],\n",
    "      }\n",
    "    ],\n",
    "    model=MODEL,\n",
    "  )\n",
    "\n",
    "  return chat_completion.choices[0].message.content"
   ]
  },
  {
   "cell_type": "markdown",
   "metadata": {},
   "source": [
    "## Testing the function"
   ]
  },
  {
   "cell_type": "code",
   "execution_count": 7,
   "metadata": {},
   "outputs": [
    {
     "name": "stdout",
     "output_type": "stream",
     "text": [
      "The image shows an orange and white cat sitting on a gray brick floor. The cat is centered in the photo, facing the camera, with its body oriented toward the left side of the image. It has long hair with orange fur on its back and white fur on its underside(patch near the base of the neck is white), face, chest, and legs. It has small white paws, darker and thicker compared to the fur on its body. Its face has orange-striped markings on the forehead, whiskers, and pink nose. It also has small ears, and tufts of white hair on the inside area of each ear and white circular markings around the eyes. A long furry orange tail curls around its torso.\n",
      "\n",
      "The background in blurred and indistinct, but seems to show a row of colorful buildings and what appears to be a water hose. The image and the pose of the cat let us know this could be a domesticated feline rather than a wild feline.\n"
     ]
    }
   ],
   "source": [
    "# === CALLING THE FUNCTION ===\n",
    "image_path = \"./imgs/ai-generated-stray-cat-in-danger-background-animal-background-photo.jpg\"\n",
    "question = \"What animal can you identify from this image?\"\n",
    "response = ask_llama_vision(question, image_path)\n",
    "print(response)"
   ]
  }
 ],
 "metadata": {
  "kernelspec": {
   "display_name": "Python 3",
   "language": "python",
   "name": "python3"
  },
  "language_info": {
   "codemirror_mode": {
    "name": "ipython",
    "version": 3
   },
   "file_extension": ".py",
   "mimetype": "text/x-python",
   "name": "python",
   "nbconvert_exporter": "python",
   "pygments_lexer": "ipython3",
   "version": "3.12.2"
  }
 },
 "nbformat": 4,
 "nbformat_minor": 2
}
